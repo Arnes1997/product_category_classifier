{
  "nbformat": 4,
  "nbformat_minor": 0,
  "metadata": {
    "colab": {
      "provenance": [],
      "authorship_tag": "ABX9TyNOTgjMTBPq5cAJCRm4uKml",
      "include_colab_link": true
    },
    "kernelspec": {
      "name": "python3",
      "display_name": "Python 3"
    },
    "language_info": {
      "name": "python"
    }
  },
  "cells": [
    {
      "cell_type": "markdown",
      "metadata": {
        "id": "view-in-github",
        "colab_type": "text"
      },
      "source": [
        "<a href=\"https://colab.research.google.com/github/Arnes1997/product_category_classifier/blob/main/notebook/category_classifier_project.ipynb\" target=\"_parent\"><img src=\"https://colab.research.google.com/assets/colab-badge.svg\" alt=\"Open In Colab\"/></a>"
      ]
    },
    {
      "cell_type": "markdown",
      "source": [
        "# 🛒 Product Category Classifier\n",
        "\n",
        "Ovaj projekat razvijen je s ciljem **automatske klasifikacije proizvoda po kategorijama** na osnovu njihovih naslova i dodatnih atributa.  \n",
        "Koristi se **machine learning model** obučen na stvarnom skupu podataka sa više od 30.000 proizvoda različitih vrsta (telefoni, kamere, mikrotalasne, frižideri i dr.).\n",
        "\n",
        "---\n",
        "\n",
        "## 📊 Opis skupa podataka\n",
        "\n",
        "Ulazni skup podataka (`products.csv`) sadrži sledeće kolone:\n",
        "\n",
        "| Kolona | Opis |\n",
        "|--------|------|\n",
        "| **Product ID** | Jedinstveni identifikator proizvoda |\n",
        "| **Product Title** | Naziv proizvoda (npr. “Samsung Galaxy A52 128GB”) |\n",
        "| **Merchant ID** | Identifikator prodavca |\n",
        "| **Category Label** | Kategorija proizvoda (ciljna varijabla) |\n",
        "| **Product Code** | Interni kod proizvoda |\n",
        "| **Number of Views** | Broj pregleda proizvoda |\n",
        "| **Merchant Rating** | Ocena prodavca |\n",
        "| **Listing Date** | Datum postavljanja proizvoda |"
      ],
      "metadata": {
        "id": "cGRTTKWkR6k8"
      }
    },
    {
      "cell_type": "markdown",
      "source": [
        "1. **Učitavanje i istraživanje podataka (Exploratory Data Analysis)**  \n",
        "   - Provjera jedinstvenih vrijednosti.  \n",
        "   - Provera null vrednosti.  \n",
        "   - Pregled osnovnih statistika i strukture podataka.  "
      ],
      "metadata": {
        "id": "mIneMm-rPtJO"
      }
    },
    {
      "cell_type": "code",
      "source": [
        "# Ucitavanje potrebne biblioteke\n",
        "import pandas as pd\n",
        "\n",
        "# Ucitavanje products.csv fajla u dataframe\n",
        "df = pd.read_csv(\"https://raw.githubusercontent.com/Arnes1997/product_category_classifier/refs/heads/main/data/products.csv\")\n",
        "\n",
        "# Pregled strukture podataka\n",
        "print(\"*\" * 100)\n",
        "print(\"*** Kolone i tipovi podataka ***\")\n",
        "print(df.info())\n",
        "print(\"*\" * 100)\n",
        "print(\"*** Prvih 5 redova ***\")\n",
        "print(df.head())\n",
        "print(\"*\" * 100)\n",
        "\n",
        "# Pregled jedinstvenih vrijednosti\n",
        "print(\"*** Jedinstvene vrijednosti u koloni Category Label ***\")\n",
        "print(df[' Category Label'].value_counts())\n",
        "print(\"*\" * 100)\n",
        "\n",
        "# Provjera da li postoje null vrijednosti u df\n",
        "print(\"*** Null vrijednosti ***\")\n",
        "print(df.isnull().sum())\n",
        "print(\"*\" * 100)\n",
        "\n"
      ],
      "metadata": {
        "colab": {
          "base_uri": "https://localhost:8080/"
        },
        "collapsed": true,
        "id": "zoIZvhVJPAX9",
        "outputId": "f9d047b1-0936-4837-d649-4775a7404c1d"
      },
      "execution_count": 11,
      "outputs": [
        {
          "output_type": "stream",
          "name": "stdout",
          "text": [
            "****************************************************************************************************\n",
            "*** Kolone i tipovi podataka ***\n",
            "<class 'pandas.core.frame.DataFrame'>\n",
            "RangeIndex: 35311 entries, 0 to 35310\n",
            "Data columns (total 8 columns):\n",
            " #   Column           Non-Null Count  Dtype  \n",
            "---  ------           --------------  -----  \n",
            " 0   product ID       35311 non-null  int64  \n",
            " 1   Product Title    35139 non-null  object \n",
            " 2   Merchant ID      35311 non-null  int64  \n",
            " 3    Category Label  35267 non-null  object \n",
            " 4   _Product Code    35216 non-null  object \n",
            " 5   Number_of_Views  35297 non-null  float64\n",
            " 6   Merchant Rating  35141 non-null  float64\n",
            " 7    Listing Date    35252 non-null  object \n",
            "dtypes: float64(2), int64(2), object(4)\n",
            "memory usage: 2.2+ MB\n",
            "None\n",
            "****************************************************************************************************\n",
            "*** Prvih 5 redova ***\n",
            "   product ID                                      Product Title  Merchant ID  \\\n",
            "0           1                    apple iphone 8 plus 64gb silver            1   \n",
            "1           2                apple iphone 8 plus 64 gb spacegrau            2   \n",
            "2           3  apple mq8n2b/a iphone 8 plus 64gb 5.5 12mp sim...            3   \n",
            "3           4                apple iphone 8 plus 64gb space grey            4   \n",
            "4           5  apple iphone 8 plus gold 5.5 64gb 4g unlocked ...            5   \n",
            "\n",
            "   Category Label _Product Code  Number_of_Views  Merchant Rating  \\\n",
            "0   Mobile Phones    QA-2276-XC            860.0              2.5   \n",
            "1   Mobile Phones    KA-2501-QO           3772.0              4.8   \n",
            "2   Mobile Phones    FP-8086-IE           3092.0              3.9   \n",
            "3   Mobile Phones    YI-0086-US            466.0              3.4   \n",
            "4   Mobile Phones    NZ-3586-WP           4426.0              1.6   \n",
            "\n",
            "   Listing Date    \n",
            "0       5/10/2024  \n",
            "1      12/31/2024  \n",
            "2      11/10/2024  \n",
            "3        5/2/2022  \n",
            "4       4/12/2023  \n",
            "****************************************************************************************************\n",
            "*** Jedinstvene vrijednosti u koloni Category Label ***\n",
            " Category Label\n",
            "Fridge Freezers     5495\n",
            "Washing Machines    4036\n",
            "Mobile Phones       4020\n",
            "CPUs                3771\n",
            "TVs                 3564\n",
            "Fridges             3457\n",
            "Dishwashers         3418\n",
            "Digital Cameras     2696\n",
            "Microwaves          2338\n",
            "Freezers            2210\n",
            "fridge               123\n",
            "CPU                   84\n",
            "Mobile Phone          55\n",
            "Name: count, dtype: int64\n",
            "****************************************************************************************************\n",
            "*** Null vrijednosti ***\n",
            "product ID           0\n",
            "Product Title      172\n",
            "Merchant ID          0\n",
            " Category Label     44\n",
            "_Product Code       95\n",
            "Number_of_Views     14\n",
            "Merchant Rating    170\n",
            " Listing Date       59\n",
            "dtype: int64\n",
            "****************************************************************************************************\n"
          ]
        }
      ]
    },
    {
      "cell_type": "markdown",
      "source": [
        "2. **Čišćenje i priprema podataka (Data Cleaning)**  \n",
        "   - Uklanjanje praznih redova.  \n",
        "   - Uklanjanje nepotrbnih kolona."
      ],
      "metadata": {
        "id": "cB8vrmuQT9IL"
      }
    },
    {
      "cell_type": "code",
      "source": [
        "# Zadrzava samo kolone product title i category label za treniranje modela\n",
        "df = df[['Product Title', ' Category Label']]\n",
        "\n",
        "# Ukloni redove koji imaju null u koloni 'Category Label' i 'Product Title'\n",
        "df = df.dropna(subset=[' Category Label'])\n",
        "df = df.dropna(subset=['Product Title'])\n",
        "\n",
        "# Provjera da li je ociscena kolona Category Label\n",
        "print(\"Null vrijednosti nakon ciscenja kolone Category Label: \", df[' Category Label'].isnull().sum())\n",
        "\n",
        "# Provjera da li je ociscena kolona Product Title\n",
        "print(\"Null vrijednosti nakon ciscenja kolone Product Title: \", df['Product Title'].isnull().sum())"
      ],
      "metadata": {
        "colab": {
          "base_uri": "https://localhost:8080/"
        },
        "id": "oGe4UMp7UYtz",
        "outputId": "18314644-18d1-4e63-81eb-458087d98233"
      },
      "execution_count": 22,
      "outputs": [
        {
          "output_type": "stream",
          "name": "stdout",
          "text": [
            "Null vrijednosti nakon ciscenja kolone Category Label:  0\n",
            "Null vrijednosti nakon ciscenja kolone Product Title:  0\n"
          ]
        }
      ]
    },
    {
      "cell_type": "markdown",
      "source": [
        "3. **Inženjering karakteristika (Feature Engineering)**  \n",
        "   Pored tekstualnih informacija iz naziva proizvoda, dodate su i numeričke osobine koje pomažu modelu da bolje razlikuje kategorije:  \n",
        "   - `title_length` – dužina naslova (broj karaktera)  \n",
        "   - `num_words` – broj riječi u naslovu  \n",
        "   - `has_digits` – da li naslov sadrži brojeve  \n",
        "   - `has_uppercase` – da li postoje riječi napisane velikim slovima  "
      ],
      "metadata": {
        "id": "H8_3l0fHX3pL"
      }
    },
    {
      "cell_type": "code",
      "source": [
        "# Ucitavanje potrebne biblioteke\n",
        "import re\n",
        "\n",
        "# Izračunava dužinu naslova proizvoda (broj karaktera)\n",
        "df['title_length'] = df['Product Title'].apply(len)\n",
        "\n",
        "# Izračunava broj riječi u naslovu proizvoda\n",
        "df['num_words'] = df['Product Title'].apply(lambda x: len(x.split()))\n",
        "\n",
        "# Provjerava da li naslov sadrži brojeve (0 ili 1)\n",
        "df['has_digits'] = df['Product Title'].apply(lambda x: int(bool(re.search(r'\\d', x))))\n",
        "\n",
        "# Provjerava da li naslov sadrži barem jednu riječ napisanu velikim slovima\n",
        "df['has_uppercase'] = df['Product Title'].apply(lambda x: int(any(w.isupper() for w in x.split())))\n",
        "\n",
        "# Prikaz kolona\n",
        "print(\"Kolone nakon (Feature Engineering):\")\n",
        "df.columns"
      ],
      "metadata": {
        "colab": {
          "base_uri": "https://localhost:8080/"
        },
        "id": "IU5UH_Y2YE0T",
        "outputId": "705bafd7-e2d1-4145-8a78-2b4b0b7e55f0"
      },
      "execution_count": 23,
      "outputs": [
        {
          "output_type": "stream",
          "name": "stdout",
          "text": [
            "Kolone nakon (Feature Engineering):\n"
          ]
        },
        {
          "output_type": "execute_result",
          "data": {
            "text/plain": [
              "Index(['Product Title', ' Category Label', 'title_length', 'num_words',\n",
              "       'has_digits', 'has_uppercase'],\n",
              "      dtype='object')"
            ]
          },
          "metadata": {},
          "execution_count": 23
        }
      ]
    },
    {
      "cell_type": "markdown",
      "source": [
        "4. **Vektorizacija teksta (Text Representation)**  \n",
        "   - Tekstualni naslovi su konvertovani u numerički oblik korišćenjem **TF-IDF** (Term Frequency – Inverse Document Frequency).  \n",
        "   - Korišćeni su **unigrami i bigrami** (1-2 reči po nizu) i maksimalno 5000 karakteristika.\n",
        "   - Podjela podataka na trening i test skup (80% trening, 20% test)"
      ],
      "metadata": {
        "id": "Bp1koBsbaGSd"
      }
    },
    {
      "cell_type": "code",
      "source": [
        "from sklearn.feature_extraction.text import TfidfVectorizer\n",
        "from sklearn.preprocessing import StandardScaler\n",
        "from sklearn.compose import ColumnTransformer\n",
        "from sklearn.model_selection import train_test_split\n",
        "\n",
        "# Kreiramo TF-IDF vektorizator sa parametrima\n",
        "text_transformer = TfidfVectorizer(max_features=5000, ngram_range=(1,2), stop_words='english')\n",
        "num_transformer = StandardScaler()\n",
        "\n",
        "# Kombinovanje TF-IDF i numeričkih značajki u ColumnTransformer\n",
        "preprocessor = ColumnTransformer(\n",
        "    transformers=[\n",
        "        ('text', text_transformer, 'Product Title'),\n",
        "        ('num', num_transformer, ['title_length', 'num_words', 'has_digits', 'has_uppercase'])\n",
        "    ]\n",
        ")\n",
        "\n",
        "# Podjela podataka na trening i test\n",
        "X = df.drop(' Category Label', axis=1)\n",
        "y = df[' Category Label']\n",
        "X_train, X_test, y_train, y_test = train_test_split(X, y, test_size=0.2, random_state=42, stratify=y)\n",
        "\n"
      ],
      "metadata": {
        "id": "vHVAEeEdaYTt"
      },
      "execution_count": 29,
      "outputs": []
    },
    {
      "cell_type": "markdown",
      "source": [
        "5. **Treniranje i testiranje modela (Model Training & Testing)**  \n",
        "   - Ispitano je više algoritama: *Logistic Regression, Random Forest, SVC*.  \n",
        "   - Korišćene metrike:  \n",
        "     - **Accuracy** (tačnost)  \n",
        "     - **Precision**, **Recall**, **F1 Score**  \n",
        "   - Izabran je model Random Forest sa najboljim balansom između tačnosti i jednostavnosti.  \n"
      ],
      "metadata": {
        "id": "ZKEZS-SoeNBr"
      }
    },
    {
      "cell_type": "code",
      "source": [
        "from sklearn.linear_model import LogisticRegression\n",
        "from sklearn.ensemble import RandomForestClassifier\n",
        "from sklearn.svm import SVC\n",
        "from sklearn.metrics import accuracy_score, classification_report\n",
        "from sklearn.pipeline import Pipeline\n",
        "\n",
        "# Izabrani modeli koji ce se koristiti za treniranje\n",
        "models = {\n",
        "    'Logistic Regression': LogisticRegression(max_iter=1000),\n",
        "    'Random Forest': RandomForestClassifier(n_estimators=100, random_state=42),\n",
        "    'Support Vector Classifier': SVC()\n",
        "}\n",
        "\n",
        "# Treniranje sva 3 modela i provjera tacnosti\n",
        "for name, model in models.items():\n",
        "    pipeline = Pipeline([\n",
        "        ('preprocessor', preprocessor),\n",
        "        ('classifier', model)\n",
        "    ])\n",
        "\n",
        "    pipeline.fit(X_train, y_train)\n",
        "    y_pred = pipeline.predict(X_test)\n",
        "\n",
        "    print(f\"=== {name} ===\")\n",
        "    print(\"Accuracy:\", accuracy_score(y_test, y_pred))\n",
        "    print(classification_report(y_test, y_pred))\n",
        "    print(\"\\n\")\n"
      ],
      "metadata": {
        "colab": {
          "base_uri": "https://localhost:8080/"
        },
        "id": "QtC6A57lerIN",
        "outputId": "3ae2d498-19c7-47e7-c933-139a5e34988a"
      },
      "execution_count": 32,
      "outputs": [
        {
          "output_type": "stream",
          "name": "stdout",
          "text": [
            "=== Logistic Regression ===\n",
            "Accuracy: 0.9478632478632478\n",
            "                  precision    recall  f1-score   support\n",
            "\n",
            "             CPU       0.00      0.00      0.00        17\n",
            "            CPUs       0.98      1.00      0.99       749\n",
            " Digital Cameras       0.99      0.99      0.99       538\n",
            "     Dishwashers       0.93      0.96      0.94       681\n",
            "        Freezers       0.98      0.91      0.94       440\n",
            " Fridge Freezers       0.93      0.94      0.93      1094\n",
            "         Fridges       0.87      0.88      0.88       687\n",
            "      Microwaves       0.98      0.95      0.97       466\n",
            "    Mobile Phone       0.00      0.00      0.00        11\n",
            "   Mobile Phones       0.97      0.99      0.98       801\n",
            "             TVs       0.97      0.99      0.98       708\n",
            "Washing Machines       0.94      0.95      0.94       803\n",
            "          fridge       0.00      0.00      0.00        25\n",
            "\n",
            "        accuracy                           0.95      7020\n",
            "       macro avg       0.73      0.73      0.73      7020\n",
            "    weighted avg       0.94      0.95      0.94      7020\n",
            "\n",
            "\n",
            "\n"
          ]
        },
        {
          "output_type": "stream",
          "name": "stderr",
          "text": [
            "/usr/local/lib/python3.12/dist-packages/sklearn/metrics/_classification.py:1565: UndefinedMetricWarning: Precision is ill-defined and being set to 0.0 in labels with no predicted samples. Use `zero_division` parameter to control this behavior.\n",
            "  _warn_prf(average, modifier, f\"{metric.capitalize()} is\", len(result))\n",
            "/usr/local/lib/python3.12/dist-packages/sklearn/metrics/_classification.py:1565: UndefinedMetricWarning: Precision is ill-defined and being set to 0.0 in labels with no predicted samples. Use `zero_division` parameter to control this behavior.\n",
            "  _warn_prf(average, modifier, f\"{metric.capitalize()} is\", len(result))\n",
            "/usr/local/lib/python3.12/dist-packages/sklearn/metrics/_classification.py:1565: UndefinedMetricWarning: Precision is ill-defined and being set to 0.0 in labels with no predicted samples. Use `zero_division` parameter to control this behavior.\n",
            "  _warn_prf(average, modifier, f\"{metric.capitalize()} is\", len(result))\n"
          ]
        },
        {
          "output_type": "stream",
          "name": "stdout",
          "text": [
            "=== Random Forest ===\n",
            "Accuracy: 0.949002849002849\n",
            "                  precision    recall  f1-score   support\n",
            "\n",
            "             CPU       0.00      0.00      0.00        17\n",
            "            CPUs       0.98      0.99      0.98       749\n",
            " Digital Cameras       1.00      0.97      0.98       538\n",
            "     Dishwashers       0.96      0.95      0.95       681\n",
            "        Freezers       0.92      0.92      0.92       440\n",
            " Fridge Freezers       0.92      0.95      0.93      1094\n",
            "         Fridges       0.89      0.88      0.89       687\n",
            "      Microwaves       0.95      0.97      0.96       466\n",
            "    Mobile Phone       0.00      0.00      0.00        11\n",
            "   Mobile Phones       0.95      0.99      0.97       801\n",
            "             TVs       0.99      0.99      0.99       708\n",
            "Washing Machines       0.97      0.94      0.96       803\n",
            "          fridge       0.00      0.00      0.00        25\n",
            "\n",
            "        accuracy                           0.95      7020\n",
            "       macro avg       0.73      0.73      0.73      7020\n",
            "    weighted avg       0.94      0.95      0.95      7020\n",
            "\n",
            "\n",
            "\n",
            "=== Support Vector Classifier ===\n",
            "Accuracy: 0.9430199430199431\n",
            "                  precision    recall  f1-score   support\n",
            "\n",
            "             CPU       0.00      0.00      0.00        17\n",
            "            CPUs       0.98      0.99      0.98       749\n",
            " Digital Cameras       1.00      0.99      0.99       538\n",
            "     Dishwashers       0.93      0.95      0.94       681\n",
            "        Freezers       0.98      0.88      0.93       440\n",
            " Fridge Freezers       0.90      0.93      0.92      1094\n",
            "         Fridges       0.85      0.87      0.86       687\n",
            "      Microwaves       0.99      0.95      0.97       466\n",
            "    Mobile Phone       0.00      0.00      0.00        11\n",
            "   Mobile Phones       0.95      0.99      0.97       801\n",
            "             TVs       0.97      0.99      0.98       708\n",
            "Washing Machines       0.94      0.95      0.95       803\n",
            "          fridge       0.00      0.00      0.00        25\n",
            "\n",
            "        accuracy                           0.94      7020\n",
            "       macro avg       0.73      0.73      0.73      7020\n",
            "    weighted avg       0.94      0.94      0.94      7020\n",
            "\n",
            "\n",
            "\n"
          ]
        },
        {
          "output_type": "stream",
          "name": "stderr",
          "text": [
            "/usr/local/lib/python3.12/dist-packages/sklearn/metrics/_classification.py:1565: UndefinedMetricWarning: Precision is ill-defined and being set to 0.0 in labels with no predicted samples. Use `zero_division` parameter to control this behavior.\n",
            "  _warn_prf(average, modifier, f\"{metric.capitalize()} is\", len(result))\n",
            "/usr/local/lib/python3.12/dist-packages/sklearn/metrics/_classification.py:1565: UndefinedMetricWarning: Precision is ill-defined and being set to 0.0 in labels with no predicted samples. Use `zero_division` parameter to control this behavior.\n",
            "  _warn_prf(average, modifier, f\"{metric.capitalize()} is\", len(result))\n",
            "/usr/local/lib/python3.12/dist-packages/sklearn/metrics/_classification.py:1565: UndefinedMetricWarning: Precision is ill-defined and being set to 0.0 in labels with no predicted samples. Use `zero_division` parameter to control this behavior.\n",
            "  _warn_prf(average, modifier, f\"{metric.capitalize()} is\", len(result))\n"
          ]
        }
      ]
    },
    {
      "cell_type": "markdown",
      "source": [
        "6. **Spremanje modela sa joblib bibliotekom**"
      ],
      "metadata": {
        "id": "lcDFTjuLixOK"
      }
    },
    {
      "cell_type": "code",
      "source": [
        "import joblib\n",
        "from google.colab import files\n",
        "\n",
        "# Uzimamo RandomForestClassifier model\n",
        "best_pipeline = Pipeline([\n",
        "    ('preprocessor', preprocessor),\n",
        "    ('classifier', RandomForestClassifier(n_estimators=100, random_state=42))\n",
        "])\n",
        "\n",
        "# Trenira se na cijelom trening setu\n",
        "best_pipeline.fit(X_train, y_train)\n",
        "\n",
        "# Spremanje u lokalni fajl\n",
        "joblib.dump(best_pipeline, 'product_classifier.pkl')\n",
        "\n",
        "# Spremanje fajla na racunar\n",
        "files.download('product_classifier.pkl')"
      ],
      "metadata": {
        "colab": {
          "base_uri": "https://localhost:8080/",
          "height": 17
        },
        "id": "Rj_BkT-GjBXd",
        "outputId": "b999948b-c020-4158-c0bf-e4a6831bc1cb"
      },
      "execution_count": 34,
      "outputs": [
        {
          "output_type": "display_data",
          "data": {
            "text/plain": [
              "<IPython.core.display.Javascript object>"
            ],
            "application/javascript": [
              "\n",
              "    async function download(id, filename, size) {\n",
              "      if (!google.colab.kernel.accessAllowed) {\n",
              "        return;\n",
              "      }\n",
              "      const div = document.createElement('div');\n",
              "      const label = document.createElement('label');\n",
              "      label.textContent = `Downloading \"${filename}\": `;\n",
              "      div.appendChild(label);\n",
              "      const progress = document.createElement('progress');\n",
              "      progress.max = size;\n",
              "      div.appendChild(progress);\n",
              "      document.body.appendChild(div);\n",
              "\n",
              "      const buffers = [];\n",
              "      let downloaded = 0;\n",
              "\n",
              "      const channel = await google.colab.kernel.comms.open(id);\n",
              "      // Send a message to notify the kernel that we're ready.\n",
              "      channel.send({})\n",
              "\n",
              "      for await (const message of channel.messages) {\n",
              "        // Send a message to notify the kernel that we're ready.\n",
              "        channel.send({})\n",
              "        if (message.buffers) {\n",
              "          for (const buffer of message.buffers) {\n",
              "            buffers.push(buffer);\n",
              "            downloaded += buffer.byteLength;\n",
              "            progress.value = downloaded;\n",
              "          }\n",
              "        }\n",
              "      }\n",
              "      const blob = new Blob(buffers, {type: 'application/binary'});\n",
              "      const a = document.createElement('a');\n",
              "      a.href = window.URL.createObjectURL(blob);\n",
              "      a.download = filename;\n",
              "      div.appendChild(a);\n",
              "      a.click();\n",
              "      div.remove();\n",
              "    }\n",
              "  "
            ]
          },
          "metadata": {}
        },
        {
          "output_type": "display_data",
          "data": {
            "text/plain": [
              "<IPython.core.display.Javascript object>"
            ],
            "application/javascript": [
              "download(\"download_b4cb4b91-b618-4f8e-a85a-0699f583851a\", \"product_classifier.pkl\", 90239066)"
            ]
          },
          "metadata": {}
        }
      ]
    }
  ]
}